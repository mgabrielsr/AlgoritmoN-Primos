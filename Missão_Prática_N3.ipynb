{
  "cells": [
    {
      "cell_type": "markdown",
      "metadata": {
        "id": "view-in-github",
        "colab_type": "text"
      },
      "source": [
        "<a href=\"https://colab.research.google.com/github/mgabrielsr/Missoes-Pratica-Faculdade/blob/main/Miss%C3%A3o_Pr%C3%A1tica_N3.ipynb\" target=\"_parent\"><img src=\"https://colab.research.google.com/assets/colab-badge.svg\" alt=\"Open In Colab\"/></a>"
      ]
    },
    {
      "cell_type": "code",
      "source": [
        "# Função para obter o conjunto das partes de um conjunto dado\n",
        "def conjunto_partes(conjunto):\n",
        "    n = len(conjunto)\n",
        "    partes = []\n",
        "    for i in range(2**n):\n",
        "        subset = []\n",
        "        for j in range(n):\n",
        "            if (i >> j) % 2 == 1:\n",
        "                subset.append(conjunto[j])\n",
        "        partes.append(subset)\n",
        "    return partes\n",
        "\n",
        "# Loop para permitir entrada múltipla de conjuntos\n",
        "while True:\n",
        "    # Entrada de dados do usuário\n",
        "    entrada = input(\"Digite os números do conjunto separados por vírgula (ex: 1, 2, 3): \")\n",
        "    conjunto_entrada = [int(x.strip()) for x in entrada.split(',')]\n",
        "\n",
        "    # Obtendo o conjunto de partes\n",
        "    conjunto_de_partes = conjunto_partes(conjunto_entrada)\n",
        "\n",
        "    # Apresentação dos resultados\n",
        "    print(\"Conjunto de partes do conjunto de entrada:\", conjunto_de_partes)\n",
        "\n",
        "    # Pergunta ao usuário se deseja continuar\n",
        "    opcao = input(\"Deseja continuar no programa? Digite 'S' para sim ou qualquer outra tecla para sair: \")\n",
        "    if opcao.lower() != 's':\n",
        "        break\n"
      ],
      "metadata": {
        "colab": {
          "base_uri": "https://localhost:8080/"
        },
        "id": "4KiNjIWM3us2",
        "outputId": "579eb97e-1fd0-4ba2-b8fd-ffde9f284e45"
      },
      "execution_count": null,
      "outputs": [
        {
          "name": "stdout",
          "output_type": "stream",
          "text": [
            "Digite os números do conjunto separados por vírgula (ex: 1, 2, 3): 20, 30, 40\n",
            "Conjunto de partes do conjunto de entrada: [[], [20], [30], [20, 30], [40], [20, 40], [30, 40], [20, 30, 40]]\n",
            "Deseja continuar no programa? Digite 'S' para sim ou qualquer outra tecla para sair: \n"
          ]
        }
      ]
    }
  ],
  "metadata": {
    "colab": {
      "provenance": [],
      "include_colab_link": true
    },
    "kernelspec": {
      "display_name": "Python 3",
      "name": "python3"
    },
    "language_info": {
      "name": "python"
    }
  },
  "nbformat": 4,
  "nbformat_minor": 0
}