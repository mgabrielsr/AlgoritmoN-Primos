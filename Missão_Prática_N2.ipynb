{
  "nbformat": 4,
  "nbformat_minor": 0,
  "metadata": {
    "colab": {
      "provenance": [],
      "authorship_tag": "ABX9TyMIQzPANV1LOGvo0SZpFuiv",
      "include_colab_link": true
    },
    "kernelspec": {
      "name": "python3",
      "display_name": "Python 3"
    },
    "language_info": {
      "name": "python"
    }
  },
  "cells": [
    {
      "cell_type": "markdown",
      "metadata": {
        "id": "view-in-github",
        "colab_type": "text"
      },
      "source": [
        "<a href=\"https://colab.research.google.com/github/mgabrielsr/AlgoritmoN-Primos/blob/main/Miss%C3%A3o_Pr%C3%A1tica_N2.ipynb\" target=\"_parent\"><img src=\"https://colab.research.google.com/assets/colab-badge.svg\" alt=\"Open In Colab\"/></a>"
      ]
    },
    {
      "cell_type": "code",
      "execution_count": null,
      "metadata": {
        "colab": {
          "base_uri": "https://localhost:8080/"
        },
        "id": "5WxESlQH-hIO",
        "outputId": "1d390a65-7774-48c8-82c8-537d75c088da"
      },
      "outputs": [
        {
          "output_type": "stream",
          "name": "stdout",
          "text": [
            "Número na base decimal:23\n",
            "Conversão para base binária:10111\n"
          ]
        }
      ],
      "source": [
        "numero_base_decimal = 23\n",
        "numero_base_binaria = \"{0:b}\".format(numero_base_decimal)\n",
        "print(f'Número na base decimal:{numero_base_decimal}')\n",
        "print(f'Conversão para base binária:{numero_base_binaria}')"
      ]
    },
    {
      "cell_type": "code",
      "source": [
        "def decimal_para_binario(numero_decimal):\n",
        "    if numero_decimal == 0:\n",
        "        return '0'  # Se o número for zero, a representação binária também será zero\n",
        "    binario = ''\n",
        "    while numero_decimal > 0:\n",
        "        binario = str(numero_decimal % 2) + binario  # Adiciona o resto da divisão na frente da string binária\n",
        "        numero_decimal //= 2  # Divide o número decimal por 2 (divisão inteira)\n",
        "    return binario\n",
        "\n",
        "while True:\n",
        "    numero_base_decimal = int(input(\"Digite um número decimal: \"))\n",
        "\n",
        "    numero_base_binaria = decimal_para_binario(numero_base_decimal)\n",
        "    print(f'Número na base decimal: {numero_base_decimal}')\n",
        "    print(f'Conversão para base binária: {numero_base_binaria}')\n",
        "\n",
        "    continuar = input(\"Deseja continuar? (S para Sim, N para Não): \").upper()\n",
        "    if continuar != 'S':\n",
        "        print(\"Programa encerrado!\")\n",
        "        break  # Encerra o loop se o usuário digitar qualquer coisa diferente de 'S'\n"
      ],
      "metadata": {
        "colab": {
          "base_uri": "https://localhost:8080/"
        },
        "id": "TeesHdrfCqGx",
        "outputId": "ee4202cb-f382-49ac-c1fa-70e957d114ea"
      },
      "execution_count": null,
      "outputs": [
        {
          "output_type": "stream",
          "name": "stdout",
          "text": [
            "Digite um número decimal: 1034\n",
            "Número na base decimal: 1034\n",
            "Conversão para base binária: 10000001010\n",
            "Deseja continuar? (S para Sim, N para Não): s\n",
            "Digite um número decimal: 784552\n",
            "Número na base decimal: 784552\n",
            "Conversão para base binária: 10111111100010101000\n",
            "Deseja continuar? (S para Sim, N para Não): n\n",
            "Programa encerrado\n"
          ]
        }
      ]
    }
  ]
}